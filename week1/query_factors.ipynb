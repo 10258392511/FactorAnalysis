{
 "cells": [
  {
   "cell_type": "code",
   "execution_count": 1,
   "id": "27ccb5b4",
   "metadata": {},
   "outputs": [],
   "source": [
    "%load_ext autoreload\n",
    "%autoreload 2"
   ]
  },
  {
   "cell_type": "code",
   "execution_count": 2,
   "id": "c458b290",
   "metadata": {},
   "outputs": [],
   "source": [
    "import sys\n",
    "import os\n",
    "\n",
    "PATH = os.getcwd()\n",
    "for _ in range(2):\n",
    "    PATH = os.path.dirname(PATH)\n",
    "if PATH not in sys.path:\n",
    "    sys.path.append(PATH)"
   ]
  },
  {
   "cell_type": "code",
   "execution_count": 3,
   "id": "211dd1bb",
   "metadata": {},
   "outputs": [],
   "source": [
    "import numpy as np\n",
    "import pandas as pd\n",
    "import matplotlib.pyplot as plt\n",
    "import seaborn as sns\n",
    "import tushare as ts\n",
    "import sqlite3\n",
    "import yaml\n",
    "\n",
    "from datetime import datetime as dt\n",
    "from FactorAnalysis.week1.helpers.query_factors import (\n",
    "    query_factors,\n",
    "    save_factors_A_share,\n",
    "    save_factors_others\n",
    ")\n",
    "from FactorAnalysis.week1.helpers.data_processing import read_from_db"
   ]
  },
  {
   "cell_type": "code",
   "execution_count": 4,
   "id": "3baa69e7",
   "metadata": {},
   "outputs": [],
   "source": [
    "today = dt.today().strftime(\"%Y%m%d\")\n",
    "today = \"20240129\"\n",
    "ts_code = \"000001.SZ\"\n",
    "trade_date = today\n",
    "log_dir = r\"D:\\testings\\Python\\TestingPython\\FactorAnalysis\\logging\""
   ]
  },
  {
   "cell_type": "markdown",
   "id": "156273a2",
   "metadata": {},
   "source": [
    "## 计算全部因子"
   ]
  },
  {
   "cell_type": "code",
   "execution_count": 5,
   "id": "1fbf6194",
   "metadata": {},
   "outputs": [
    {
     "data": {
      "text/html": [
       "<div>\n",
       "<style scoped>\n",
       "    .dataframe tbody tr th:only-of-type {\n",
       "        vertical-align: middle;\n",
       "    }\n",
       "\n",
       "    .dataframe tbody tr th {\n",
       "        vertical-align: top;\n",
       "    }\n",
       "\n",
       "    .dataframe thead th {\n",
       "        text-align: right;\n",
       "    }\n",
       "</style>\n",
       "<table border=\"1\" class=\"dataframe\">\n",
       "  <thead>\n",
       "    <tr style=\"text-align: right;\">\n",
       "      <th></th>\n",
       "      <th>turnover_rate</th>\n",
       "      <th>pe</th>\n",
       "      <th>pb</th>\n",
       "      <th>total_mv</th>\n",
       "      <th>reversal_rate</th>\n",
       "      <th>volatility</th>\n",
       "      <th>roe</th>\n",
       "      <th>netprofit_yoy</th>\n",
       "      <th>or_yoy</th>\n",
       "      <th>assets_yoy</th>\n",
       "      <th>equity_yoy</th>\n",
       "      <th>gross_profit_margin</th>\n",
       "      <th>net_profit_margin</th>\n",
       "      <th>operating_cash_flow_to_net_income</th>\n",
       "      <th>operating_cash_flow_to_revenue</th>\n",
       "      <th>current_ratio</th>\n",
       "      <th>cash_current_liability_ratio</th>\n",
       "      <th>cash_liability_ratio</th>\n",
       "      <th>long_term_liability_operating_cash_flow_ratio</th>\n",
       "    </tr>\n",
       "  </thead>\n",
       "  <tbody>\n",
       "    <tr>\n",
       "      <th>0</th>\n",
       "      <td>1.2245</td>\n",
       "      <td>4.1356</td>\n",
       "      <td>0.4754</td>\n",
       "      <td>1.882374e+07</td>\n",
       "      <td>6.593407</td>\n",
       "      <td>1.210736</td>\n",
       "      <td>8.8025</td>\n",
       "      <td>8.1181</td>\n",
       "      <td>-7.6889</td>\n",
       "      <td>3.662</td>\n",
       "      <td>9.5152</td>\n",
       "      <td>0.384278</td>\n",
       "      <td>0.310536</td>\n",
       "      <td>2.92494</td>\n",
       "      <td>0.9083</td>\n",
       "      <td>NaN</td>\n",
       "      <td>NaN</td>\n",
       "      <td>0.022954</td>\n",
       "      <td>NaN</td>\n",
       "    </tr>\n",
       "  </tbody>\n",
       "</table>\n",
       "</div>"
      ],
      "text/plain": [
       "   turnover_rate      pe      pb      total_mv reversal_rate volatility  \\\n",
       "0         1.2245  4.1356  0.4754  1.882374e+07      6.593407   1.210736   \n",
       "\n",
       "      roe  netprofit_yoy  or_yoy  assets_yoy  equity_yoy  gross_profit_margin  \\\n",
       "0  8.8025         8.1181 -7.6889       3.662      9.5152             0.384278   \n",
       "\n",
       "   net_profit_margin  operating_cash_flow_to_net_income  \\\n",
       "0           0.310536                            2.92494   \n",
       "\n",
       "   operating_cash_flow_to_revenue  current_ratio  \\\n",
       "0                          0.9083            NaN   \n",
       "\n",
       "   cash_current_liability_ratio  cash_liability_ratio  \\\n",
       "0                           NaN              0.022954   \n",
       "\n",
       "   long_term_liability_operating_cash_flow_ratio  \n",
       "0                                            NaN  "
      ]
     },
     "execution_count": 5,
     "metadata": {},
     "output_type": "execute_result"
    }
   ],
   "source": [
    "data_df = query_factors(ts_code, today)\n",
    "data_df"
   ]
  },
  {
   "cell_type": "markdown",
   "id": "9d2c732f",
   "metadata": {},
   "source": [
    "## 保存全部因子"
   ]
  },
  {
   "cell_type": "code",
   "execution_count": null,
   "id": "56da0f94",
   "metadata": {},
   "outputs": [
    {
     "name": "stderr",
     "output_type": "stream",
     "text": [
      "  1%|▉                                                                                                                                                | 31/4911 [02:16<5:46:52,  4.26s/it]"
     ]
    }
   ],
   "source": [
    "trade_date = today\n",
    "stock_df = save_factors_A_share(\"../week1/data/stocks.db\", today, log_dir)\n",
    "stock_df"
   ]
  },
  {
   "cell_type": "code",
   "execution_count": null,
   "id": "a1c0ea48",
   "metadata": {},
   "outputs": [],
   "source": []
  }
 ],
 "metadata": {
  "kernelspec": {
   "display_name": "Trading",
   "language": "python",
   "name": "trading"
  },
  "language_info": {
   "codemirror_mode": {
    "name": "ipython",
    "version": 3
   },
   "file_extension": ".py",
   "mimetype": "text/x-python",
   "name": "python",
   "nbconvert_exporter": "python",
   "pygments_lexer": "ipython3",
   "version": "3.9.5"
  }
 },
 "nbformat": 4,
 "nbformat_minor": 5
}
